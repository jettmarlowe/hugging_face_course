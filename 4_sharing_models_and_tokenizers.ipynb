{
 "cells": [
  {
   "cell_type": "markdown",
   "id": "7a53d214",
   "metadata": {},
   "source": [
    "# Using pretrained models"
   ]
  },
  {
   "cell_type": "code",
   "execution_count": 1,
   "id": "eed494e2",
   "metadata": {},
   "outputs": [
    {
     "data": {
      "application/vnd.jupyter.widget-view+json": {
       "model_id": "fae6d3bfb6444f1caf8478e836304e17",
       "version_major": 2,
       "version_minor": 0
      },
      "text/plain": [
       "Downloading:   0%|          | 0.00/508 [00:00<?, ?B/s]"
      ]
     },
     "metadata": {},
     "output_type": "display_data"
    },
    {
     "data": {
      "application/vnd.jupyter.widget-view+json": {
       "model_id": "7f04b29c54fc4e02a4e661ed4512bc70",
       "version_major": 2,
       "version_minor": 0
      },
      "text/plain": [
       "Downloading:   0%|          | 0.00/445M [00:00<?, ?B/s]"
      ]
     },
     "metadata": {},
     "output_type": "display_data"
    },
    {
     "data": {
      "application/vnd.jupyter.widget-view+json": {
       "model_id": "24ba3e21ac844c0b8b7059b0de4d0467",
       "version_major": 2,
       "version_minor": 0
      },
      "text/plain": [
       "Downloading:   0%|          | 0.00/811k [00:00<?, ?B/s]"
      ]
     },
     "metadata": {},
     "output_type": "display_data"
    },
    {
     "data": {
      "application/vnd.jupyter.widget-view+json": {
       "model_id": "d51254ea02014babba148509701d4fa9",
       "version_major": 2,
       "version_minor": 0
      },
      "text/plain": [
       "Downloading:   0%|          | 0.00/1.40M [00:00<?, ?B/s]"
      ]
     },
     "metadata": {},
     "output_type": "display_data"
    }
   ],
   "source": [
    "from transformers import pipeline\n",
    "\n",
    "camembert_fill_mask = pipeline('fill-mask', model='camembert-base')\n",
    "\n",
    "results = camembert_fill_mask('Le camembert est <mask> :)')"
   ]
  },
  {
   "cell_type": "code",
   "execution_count": 2,
   "id": "6d02f6ce",
   "metadata": {},
   "outputs": [
    {
     "data": {
      "text/plain": [
       "[{'score': 0.4909113049507141,\n",
       "  'token': 7200,\n",
       "  'token_str': 'délicieux',\n",
       "  'sequence': 'Le camembert est délicieux :)'},\n",
       " {'score': 0.10556941479444504,\n",
       "  'token': 2183,\n",
       "  'token_str': 'excellent',\n",
       "  'sequence': 'Le camembert est excellent :)'},\n",
       " {'score': 0.03453318774700165,\n",
       "  'token': 26202,\n",
       "  'token_str': 'succulent',\n",
       "  'sequence': 'Le camembert est succulent :)'},\n",
       " {'score': 0.03303121030330658,\n",
       "  'token': 528,\n",
       "  'token_str': 'meilleur',\n",
       "  'sequence': 'Le camembert est meilleur :)'},\n",
       " {'score': 0.030076349154114723,\n",
       "  'token': 1654,\n",
       "  'token_str': 'parfait',\n",
       "  'sequence': 'Le camembert est parfait :)'}]"
      ]
     },
     "execution_count": 2,
     "metadata": {},
     "output_type": "execute_result"
    }
   ],
   "source": [
    "results"
   ]
  },
  {
   "cell_type": "code",
   "execution_count": 3,
   "id": "a3b3f1f8",
   "metadata": {},
   "outputs": [],
   "source": [
    "# Need to make sure that the chosen checkpoint is suitable for the task that it's going to be used for\n",
    "# You can use the task selector to select the appropriate checkpoints.,"
   ]
  },
  {
   "cell_type": "code",
   "execution_count": 4,
   "id": "576e4d99",
   "metadata": {},
   "outputs": [],
   "source": [
    "# You can also instantiate directly\n",
    "\n",
    "# but it is recommended to use the Auto* classes instead\n",
    "# Why? because the Auto* classes are architecture agnostic so for example you could easily switch \n",
    "# from using the CamemBERT checkpoints to those of another architecture\n",
    "\n",
    "from transformers import AutoTokenizer, AutoModelForMaskedLM\n",
    "\n",
    "tokenizer = AutoTokenizer.from_pretrained('camembert-base')\n",
    "model = AutoModelForMaskedLM.from_pretrained('camembert-base')"
   ]
  },
  {
   "cell_type": "markdown",
   "id": "16705914",
   "metadata": {},
   "source": [
    "# Sharing pretrained models"
   ]
  },
  {
   "cell_type": "code",
   "execution_count": null,
   "id": "d041e5b1",
   "metadata": {},
   "outputs": [],
   "source": [
    "# There are a bunch of command line utilities that you can use to do \n",
    "# git-like commands and save/share the model on HuggingFace Hub"
   ]
  },
  {
   "cell_type": "markdown",
   "id": "8704d0dc",
   "metadata": {},
   "source": [
    "* push_to_hub API\n",
    "* huggingface_hub Python library\n",
    "* web interface"
   ]
  }
 ],
 "metadata": {
  "kernelspec": {
   "display_name": "Python 3 (ipykernel)",
   "language": "python",
   "name": "python3"
  },
  "language_info": {
   "codemirror_mode": {
    "name": "ipython",
    "version": 3
   },
   "file_extension": ".py",
   "mimetype": "text/x-python",
   "name": "python",
   "nbconvert_exporter": "python",
   "pygments_lexer": "ipython3",
   "version": "3.9.13"
  }
 },
 "nbformat": 4,
 "nbformat_minor": 5
}
