{
 "cells": [
  {
   "cell_type": "code",
   "execution_count": null,
   "id": "e423ef9b",
   "metadata": {},
   "outputs": [],
   "source": [
    "# python tries to help when an error occurs by info vomits on you \n",
    "# this is called a traceback\n",
    "# don't get overwhelmed by the traceback\n",
    "# read from bottom to top\n",
    "\n",
    "# why does it show the exception at the bottom ?\n",
    "# in case you are working in a terminal, then it is easier to read  since this is the last line you see"
   ]
  },
  {
   "cell_type": "markdown",
   "id": "9317efb5",
   "metadata": {},
   "source": [
    "# debugging in a notebook"
   ]
  },
  {
   "cell_type": "code",
   "execution_count": 1,
   "id": "40f21cae",
   "metadata": {},
   "outputs": [
    {
     "name": "stderr",
     "output_type": "stream",
     "text": [
      "ERROR:root:No traceback has been produced, nothing to debug.\n"
     ]
    }
   ],
   "source": [
    "%debug"
   ]
  },
  {
   "cell_type": "code",
   "execution_count": null,
   "id": "e8aaa44c",
   "metadata": {},
   "outputs": [],
   "source": [
    "# type u and enter will take you one step up in the traceback\n",
    "# type d and enter will take you down one step\n",
    "# type p to print any value you want\n",
    "\n",
    "# inspect variables, size of variables, type of variables to get more info on the issue\n",
    "\n",
    "# type q and enter to quit"
   ]
  },
  {
   "cell_type": "markdown",
   "id": "54e3aa4a",
   "metadata": {},
   "source": [
    "# debugging in a terminal"
   ]
  },
  {
   "cell_type": "code",
   "execution_count": null,
   "id": "9c8b2930",
   "metadata": {},
   "outputs": [],
   "source": [
    "# in terminal\n",
    "# python -m pdb script_name.py\n",
    "\n",
    "# type n and enter to run next instruction\n",
    "# type c and enter to continue \n",
    "# type u to go up in the traceback\n",
    "# type d to go down in the traceback\n",
    "# type p to print a value\n",
    "# type q to quit\n",
    "\n",
    "# set a breakpoint in the script itself by typing pdb.set_trace()\n",
    "# then the script will run until the trace\n",
    "# of course you have to import pdb library as well\n",
    "\n",
    "# the script will stop at the breaking point we set\n",
    "# then inspect all the variables\n",
    "\n"
   ]
  },
  {
   "cell_type": "markdown",
   "id": "970d9fca",
   "metadata": {},
   "source": [
    "# asking for help on the HF forums"
   ]
  },
  {
   "cell_type": "code",
   "execution_count": null,
   "id": "4f253a18",
   "metadata": {},
   "outputs": [],
   "source": [
    "# pick a category \n",
    "# summarize your question well in the title\n",
    "# make sure the question hasn't already been answered\n",
    "# include code in your post\n",
    "# preview how the post will look\n",
    "# include full traceback by putting it between three backticks \n",
    "# ideally you will provide a reproducible example"
   ]
  },
  {
   "cell_type": "markdown",
   "id": "15e84c54",
   "metadata": {},
   "source": [
    "# debug the training pipeline"
   ]
  },
  {
   "cell_type": "code",
   "execution_count": null,
   "id": "12cde20e",
   "metadata": {},
   "outputs": [],
   "source": [
    "# you have to check each step of the training pipeline\n",
    "# check dataset first\n",
    "# then confirm batching\n",
    "# padding can be an issue\n",
    "\n",
    "# caution: CUDA errors are very hard to debug\n",
    "\n",
    "# then check the model \n",
    "# confirm the number of labels\n",
    "\n",
    "# finally check the loss, gradients, and optimizer steps"
   ]
  },
  {
   "cell_type": "markdown",
   "id": "dd0d8656",
   "metadata": {},
   "source": [
    "# silent errors"
   ]
  },
  {
   "cell_type": "code",
   "execution_count": null,
   "id": "d558f213",
   "metadata": {},
   "outputs": [],
   "source": [
    "# double check decoded inputs and labels\n",
    "# do a short run of 20 or so to check the results\n",
    "# confirm that the model is able to reduce the loss to zero - so we can verify that the model is capable of learning\n",
    "# don't tune anything until you first have a baseline"
   ]
  }
 ],
 "metadata": {
  "kernelspec": {
   "display_name": "Python 3 (ipykernel)",
   "language": "python",
   "name": "python3"
  },
  "language_info": {
   "codemirror_mode": {
    "name": "ipython",
    "version": 3
   },
   "file_extension": ".py",
   "mimetype": "text/x-python",
   "name": "python",
   "nbconvert_exporter": "python",
   "pygments_lexer": "ipython3",
   "version": "3.9.13"
  }
 },
 "nbformat": 4,
 "nbformat_minor": 5
}
